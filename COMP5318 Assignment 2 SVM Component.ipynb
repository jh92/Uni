{
 "cells": [
  {
   "cell_type": "markdown",
   "metadata": {},
   "source": [
    "# Format 2"
   ]
  },
  {
   "cell_type": "code",
   "execution_count": 1,
   "metadata": {},
   "outputs": [],
   "source": [
    "# Load packages\n",
    "import scipy.io as sio\n",
    "import numpy as np\n",
    "import matplotlib.pyplot as plt\n",
    "\n",
    "# Load the data\n",
    "train_data, train_label = sio.loadmat('train_32x32.mat')['X'], sio.loadmat('train_32x32.mat')['y']\n",
    "test_data, test_label = sio.loadmat('test_32x32.mat')['X'], sio.loadmat('test_32x32.mat')['y']\n",
    "\n",
    "img_count = train_data.shape[3]\n",
    "channels = train_data.shape[2]\n",
    "\n",
    "# Determine number of classes\n",
    "n_classes = len(np.unique(train_label))"
   ]
  },
  {
   "cell_type": "markdown",
   "metadata": {},
   "source": [
    "# Preprocessing: Histogram of Oriented Gradients Color"
   ]
  },
  {
   "cell_type": "code",
   "execution_count": 2,
   "metadata": {},
   "outputs": [],
   "source": [
    "# Reshape PNGs into coloured 2D arrays\n",
    "from skimage.feature import hog\n",
    "\n",
    "def transform(image, active=False):\n",
    "    return hog(image, \n",
    "               orientations = 9, \n",
    "               pixels_per_cell = (4, 4), \n",
    "               cells_per_block = (1, 1), \n",
    "               visualise = active, \n",
    "               transform_sqrt = True,\n",
    "               block_norm='L2-Hys')"
   ]
  },
  {
   "cell_type": "code",
   "execution_count": 3,
   "metadata": {},
   "outputs": [
    {
     "name": "stdout",
     "output_type": "stream",
     "text": [
      "Features Train: (73257, 1728)\n"
     ]
    }
   ],
   "source": [
    "import time\n",
    "train_time_start = time.time()\n",
    "color_train = []\n",
    "for i in range(img_count): \n",
    "    img_container = []\n",
    "    for j in range(channels):\n",
    "        features_train = transform(train_data[:,:,j,i], active=False)\n",
    "        img_container.append(features_train)\n",
    "    color_train.append(np.array(img_container).flatten())\n",
    "color_train = np.array(color_train)\n",
    "print(\"Features Train:\", color_train.shape)\n",
    "train_time_end = time.time() - train_time_start"
   ]
  },
  {
   "cell_type": "code",
   "execution_count": 8,
   "metadata": {},
   "outputs": [
    {
     "name": "stdout",
     "output_type": "stream",
     "text": [
      "6.0 minutes 16.0 seconds\n"
     ]
    }
   ],
   "source": [
    "print(np.round(train_time_end/60), 'minutes', np.round(train_time_end % 60), 'seconds')"
   ]
  },
  {
   "cell_type": "code",
   "execution_count": 9,
   "metadata": {},
   "outputs": [
    {
     "name": "stdout",
     "output_type": "stream",
     "text": [
      "Features Test: (26032, 1728)\n"
     ]
    }
   ],
   "source": [
    "test_time_start = time.time()\n",
    "color_test = []\n",
    "for i in range(test_data.shape[3]): \n",
    "    img_container = []\n",
    "    for j in range(channels):\n",
    "        features_test = transform(test_data[:,:,j,i], active=False)\n",
    "        img_container.append(features_test)\n",
    "    color_test.append(np.array(img_container).flatten())\n",
    "color_test = np.array(color_test)\n",
    "print(\"Features Test:\", color_test.shape)\n",
    "test_time_end = time.time() - test_time_start"
   ]
  },
  {
   "cell_type": "code",
   "execution_count": 10,
   "metadata": {},
   "outputs": [
    {
     "name": "stdout",
     "output_type": "stream",
     "text": [
      "2.0 minutes 10.0 seconds\n"
     ]
    }
   ],
   "source": [
    "print(np.round(test_time_end/60), 'minutes', np.round(test_time_end % 60), 'seconds')"
   ]
  },
  {
   "cell_type": "code",
   "execution_count": 11,
   "metadata": {},
   "outputs": [
    {
     "data": {
      "text/plain": [
       "<matplotlib.image.AxesImage at 0x1a6576d2ac8>"
      ]
     },
     "execution_count": 11,
     "metadata": {},
     "output_type": "execute_result"
    },
    {
     "data": {
      "image/png": "[encoded data removed]",
      "text/plain": [
       "<Figure size 1152x1152 with 2 Axes>"
      ]
     },
     "metadata": {},
     "output_type": "display_data"
    }
   ],
   "source": [
    "from skimage import exposure\n",
    "\n",
    "# Render images and show\n",
    "image = train_data[:,:,:,0]\n",
    "_, hog_image = transform(train_data[:,:,0,0], active=True)\n",
    "hog_image= exposure.rescale_intensity(hog_image, in_range=(0, 255))\n",
    "fig, (ax1, ax2) = plt.subplots(2, sharey=True, figsize = (16,16))\n",
    "ax1.imshow(image)\n",
    "ax2.imshow(hog_image)"
   ]
  },
  {
   "cell_type": "markdown",
   "metadata": {},
   "source": [
    "# Preprocessing: DCT"
   ]
  },
  {
   "cell_type": "code",
   "execution_count": 12,
   "metadata": {},
   "outputs": [],
   "source": [
    "# Set partitions\n",
    "partition_train = 73257\n",
    "partition_test = 26032\n",
    "\n",
    "from sklearn import preprocessing\n",
    "scaler = preprocessing.MinMaxScaler()"
   ]
  },
  {
   "cell_type": "code",
   "execution_count": 164,
   "metadata": {},
   "outputs": [],
   "source": [
    "from scipy.fftpack import dct\n",
    "\n",
    "it = 8\n",
    "\n",
    "# DCT features\n",
    "dct_flat_train = []\n",
    "dct_flat_test = []\n",
    "\n",
    "for i in range(train_data.shape[3]):\n",
    "    container_dct = []\n",
    "    for j in range(0, train_data.shape[0], it):\n",
    "        for k in range(0, train_data.shape[1], it):\n",
    "            tile_train = (dct(train_data[j:j+it,k:k+it,:,i].reshape(3,it**2))).flatten()\n",
    "            container_dct.append(tile_train)  \n",
    "    container_dct = np.array(container_dct).flatten()\n",
    "    dct_flat_train.append(container_dct)\n",
    "    \n",
    "for i in range(test_data.shape[3]):\n",
    "    container_dct = []\n",
    "    for j in range(0, test_data.shape[0], it):\n",
    "        for k in range(0, test_data.shape[1], it):\n",
    "            tile_train = (dct(test_data[j:j+it,k:k+it,:,i].reshape(3,it**2))).flatten()\n",
    "            container_dct.append(tile_train)  \n",
    "    container_dct = np.array(container_dct).flatten()\n",
    "    dct_flat_test.append(container_dct)\n",
    "    \n",
    "dct_flat_train = np.array(dct_flat_train)\n",
    "dct_flat_test = np.array(dct_flat_test)\n",
    "\n",
    "# Scaled DCT\n",
    "scaled_dct_train = scaler.fit_transform(dct_flat_train[:partition_train])\n",
    "scaled_dct_test = scaler.fit_transform(dct_flat_test[:partition_test])"
   ]
  },
  {
   "cell_type": "markdown",
   "metadata": {},
   "source": [
    "# Preprocessing: RGB Covariance Descriptor"
   ]
  },
  {
   "cell_type": "code",
   "execution_count": 13,
   "metadata": {},
   "outputs": [
    {
     "name": "stdout",
     "output_type": "stream",
     "text": [
      "Train Matrix: (73257, 36)\n",
      "Test Matrix: (26032, 36)\n"
     ]
    }
   ],
   "source": [
    "# Initialize covariance matrices\n",
    "cov_train = []\n",
    "cov_test = []\n",
    "\n",
    "# Iterating step\n",
    "it = 16\n",
    "\n",
    "cov_start_time = time.time()\n",
    "\n",
    "# Loop\n",
    "for i in range(train_data.shape[3]):\n",
    "    img_matrix_train = []\n",
    "    for j in range(0, train_data.shape[0], it):\n",
    "        for k in range(0, train_data.shape[1], it):\n",
    "            tile_train = (np.cov(train_data[j:j+it,k:k+it,:,i].reshape(3,it**2))).flatten()\n",
    "            img_matrix_train.append(tile_train)  \n",
    "    img_matrix_train = np.array(img_matrix_train).flatten()\n",
    "    cov_train.append(img_matrix_train)\n",
    "    \n",
    "for i in range(test_data.shape[3]):\n",
    "    img_matrix_test = []\n",
    "    for j in range(0, test_data.shape[0], it):\n",
    "        for k in range(0, test_data.shape[1], it):\n",
    "            tile_test = (np.cov(test_data[j:j+it,k:k+it,:,i].reshape(3,it**2))).flatten()\n",
    "            img_matrix_test.append(tile_test)  \n",
    "    img_matrix_test = np.array(img_matrix_test).flatten()\n",
    "    cov_test.append(img_matrix_test)    \n",
    "\n",
    "# Convert to numpy arrays\n",
    "cov_train = np.array(cov_train)\n",
    "cov_test = np.array(cov_test)\n",
    "\n",
    "# Print the shape\n",
    "print('Train Matrix:',cov_train.shape)\n",
    "print('Test Matrix:',cov_test.shape)\n",
    "\n",
    "scaled_cov_train = scaler.fit_transform(cov_train[:partition_train])\n",
    "scaled_cov_test = scaler.fit_transform(cov_test[:partition_test])\n",
    "\n",
    "cov_end_time = time.time() - cov_start_time"
   ]
  },
  {
   "cell_type": "code",
   "execution_count": 15,
   "metadata": {},
   "outputs": [
    {
     "name": "stdout",
     "output_type": "stream",
     "text": [
      "1.0 minutes 42.0 seconds\n"
     ]
    }
   ],
   "source": [
    "print(np.round(cov_end_time/60), 'minutes', np.round(cov_end_time % 60), 'seconds')"
   ]
  },
  {
   "cell_type": "markdown",
   "metadata": {},
   "source": [
    "# SVM Classifier"
   ]
  },
  {
   "cell_type": "markdown",
   "metadata": {},
   "source": [
    "## HOG + Covariance"
   ]
  },
  {
   "cell_type": "code",
   "execution_count": 16,
   "metadata": {},
   "outputs": [],
   "source": [
    "from sklearn.svm import LinearSVC\n",
    "from sklearn import preprocessing\n",
    "scaler = preprocessing.MinMaxScaler()\n",
    "X = scaler.fit_transform(color_train[:partition_train])\n",
    "Y = scaler.fit_transform(color_test[:partition_test])\n",
    "Z = train_label[:partition_train].ravel()\n",
    "XC = np.concatenate((scaled_cov_train, X), axis=1)\n",
    "YC = np.concatenate((scaled_cov_test, Y), axis=1)\n",
    "clf = LinearSVC(C=1)\n",
    "HC_start_time = time.time()\n",
    "clf.fit(XC,Z)\n",
    "HC_end_time = time.time() - HC_start_time"
   ]
  },
  {
   "cell_type": "code",
   "execution_count": 17,
   "metadata": {},
   "outputs": [
    {
     "name": "stdout",
     "output_type": "stream",
     "text": [
      "21.0 minutes 45.0 seconds\n"
     ]
    }
   ],
   "source": [
    "print(np.round(HC_end_time/60), 'minutes', np.round(HC_end_time % 60), 'seconds')"
   ]
  },
  {
   "cell_type": "code",
   "execution_count": 29,
   "metadata": {},
   "outputs": [
    {
     "name": "stdout",
     "output_type": "stream",
     "text": [
      "Model Precision: 61.38%\n",
      "Model Recall: 58.39%\n",
      "Model F-score: 56.47%\n",
      "Training Accuracy: 75.47%\n",
      "Model Accuracy: 60.6%\n",
      "******************** Classification Report ********************\n",
      "             precision    recall  f1-score   support\n",
      "\n",
      "          1       0.83      0.72      0.77      5099\n",
      "          2       0.86      0.63      0.73      4149\n",
      "          3       0.65      0.42      0.51      2882\n",
      "          4       0.68      0.62      0.65      2523\n",
      "          5       0.51      0.71      0.59      2384\n",
      "          6       0.40      0.65      0.50      1977\n",
      "          7       0.66      0.69      0.67      2019\n",
      "          8       0.55      0.13      0.21      1660\n",
      "          9       0.29      0.75      0.42      1595\n",
      "         10       0.70      0.50      0.58      1744\n",
      "\n",
      "avg / total       0.67      0.61      0.61     26032\n",
      "\n"
     ]
    }
   ],
   "source": [
    "XC_results = clf.predict(YC[:partition_test])\n",
    "from sklearn import metrics as skm\n",
    "XC_report = skm.classification_report(test_label[:partition_test], XC_results)\n",
    "print( \"Model Precision: {}%\".format(round((skm.precision_score(test_label, XC_results, average=\"macro\")*100), 2)) )\n",
    "print( \"Model Recall: {}%\".format(round((skm.recall_score(test_label, XC_results, average = \"macro\")*100), 2)) )\n",
    "print( \"Model F-score: {}%\".format(round((skm.f1_score(test_label, XC_results, average = \"macro\")*100), 2)) )\n",
    "print( \"Training Accuracy: {}%\".format(np.round(clf.score(XC[:partition_test],Z[:partition_test])*100, 2)))\n",
    "print( \"Model Accuracy: {}%\".format(np.round(clf.score(YC[:partition_test],test_label[:partition_test])*100, 2)))\n",
    "print( \"******************** Classification Report ********************\" )\n",
    "print(XC_report)"
   ]
  },
  {
   "cell_type": "code",
   "execution_count": 19,
   "metadata": {},
   "outputs": [
    {
     "data": {
      "text/plain": [
       "array([[3685,   85,   87,  167,   97,  235,  168,   63,  368,  144],\n",
       "       [ 102, 2633,  137,  147,  199,  196,  223,   41,  444,   27],\n",
       "       [ 128,   91, 1224,   79,  419,  184,   78,   26,  614,   39],\n",
       "       [ 115,   34,   74, 1575,   99,  301,   48,    9,  227,   41],\n",
       "       [  45,   26,  101,   52, 1684,  218,   38,    8,  204,    8],\n",
       "       [  54,   16,   62,  113,  281, 1294,   25,    3,  102,   27],\n",
       "       [ 145,   95,   54,   31,   97,   80, 1392,   11,   97,   17],\n",
       "       [  51,   32,   80,   72,  210,  461,   33,  212,  470,   39],\n",
       "       [  32,   33,   34,   26,  114,   71,   43,    3, 1202,   37],\n",
       "       [  70,   25,   33,   50,   83,  176,   77,    6,  350,  874]],\n",
       "      dtype=int64)"
      ]
     },
     "execution_count": 19,
     "metadata": {},
     "output_type": "execute_result"
    }
   ],
   "source": [
    "from sklearn.metrics import confusion_matrix\n",
    "confusion_matrix(test_label[:partition_test], XC_results)"
   ]
  },
  {
   "cell_type": "markdown",
   "metadata": {},
   "source": [
    "## HOG"
   ]
  },
  {
   "cell_type": "code",
   "execution_count": 21,
   "metadata": {},
   "outputs": [],
   "source": [
    "H_start_time = time.time()\n",
    "clf2 = LinearSVC(C=1)\n",
    "clf2.fit(X, Z)\n",
    "H_end_time = time.time() - H_start_time"
   ]
  },
  {
   "cell_type": "code",
   "execution_count": 22,
   "metadata": {},
   "outputs": [
    {
     "name": "stdout",
     "output_type": "stream",
     "text": [
      "19.0 minutes 33.0 seconds\n"
     ]
    }
   ],
   "source": [
    "print(np.round(H_end_time/60), 'minutes', np.round(H_end_time % 60), 'seconds')"
   ]
  },
  {
   "cell_type": "code",
   "execution_count": 30,
   "metadata": {},
   "outputs": [
    {
     "name": "stdout",
     "output_type": "stream",
     "text": [
      "Model Precision: 59.92%\n",
      "Model Recall: 57.58%\n",
      "Model F-score: 56.4%\n",
      "Training Accuracy: 74.81%\n",
      "Model Accuracy: 59.73%\n",
      "******************** Classification Report ********************\n",
      "             precision    recall  f1-score   support\n",
      "\n",
      "          1       0.88      0.64      0.74      5099\n",
      "          2       0.81      0.68      0.74      4149\n",
      "          3       0.63      0.44      0.52      2882\n",
      "          4       0.61      0.67      0.64      2523\n",
      "          5       0.41      0.78      0.54      2384\n",
      "          6       0.38      0.58      0.46      1977\n",
      "          7       0.77      0.59      0.67      2019\n",
      "          8       0.45      0.20      0.28      1660\n",
      "          9       0.37      0.66      0.47      1595\n",
      "         10       0.69      0.50      0.58      1744\n",
      "\n",
      "avg / total       0.65      0.60      0.60     26032\n",
      "\n"
     ]
    }
   ],
   "source": [
    "X_results = clf2.predict(Y[:partition_test])\n",
    "X_report = skm.classification_report(test_label[:partition_test], X_results)\n",
    "print( \"Model Precision: {}%\".format(round((skm.precision_score(test_label, X_results, average=\"macro\")*100), 2)) )\n",
    "print( \"Model Recall: {}%\".format(round((skm.recall_score(test_label, X_results, average = \"macro\")*100), 2)) )\n",
    "print( \"Model F-score: {}%\".format(round((skm.f1_score(test_label, X_results, average = \"macro\")*100), 2)) )\n",
    "print( \"Training Accuracy: {}%\".format(np.round(clf2.score(X[:partition_test],Z[:partition_test])*100, 2)))\n",
    "print( \"Model Accuracy: {}%\".format(np.round(clf2.score(Y[:partition_test],test_label[:partition_test])*100, 2)))\n",
    "print( \"******************** Classification Report ********************\" )\n",
    "print(X_report)"
   ]
  },
  {
   "cell_type": "code",
   "execution_count": 24,
   "metadata": {},
   "outputs": [
    {
     "data": {
      "text/plain": [
       "array([[3286,  123,  120,  292,  216,  285,  121,  172,  292,  192],\n",
       "       [  63, 2823,  135,  205,  285,  172,   82,   79,  290,   15],\n",
       "       [  69,  110, 1265,  127,  651,  169,   33,   49,  374,   35],\n",
       "       [  52,   47,   85, 1701,  175,  265,   18,   24,  118,   38],\n",
       "       [  17,   29,  105,   65, 1868,  175,   16,   15,   85,    9],\n",
       "       [  31,   19,   69,  147,  467, 1143,   13,   19,   52,   17],\n",
       "       [ 116,  185,   67,   51,  171,   96, 1199,   31,   76,   27],\n",
       "       [  28,   39,   81,   81,  354,  424,   13,  336,  279,   25],\n",
       "       [  20,   66,   44,   40,  209,   84,   25,   13, 1051,   43],\n",
       "       [  54,   46,   39,   76,  162,  207,   31,   14,  238,  877]],\n",
       "      dtype=int64)"
      ]
     },
     "execution_count": 24,
     "metadata": {},
     "output_type": "execute_result"
    }
   ],
   "source": [
    "confusion_matrix(test_label[:partition_test], X_results)"
   ]
  },
  {
   "cell_type": "markdown",
   "metadata": {},
   "source": [
    "## Covariance"
   ]
  },
  {
   "cell_type": "code",
   "execution_count": 25,
   "metadata": {},
   "outputs": [],
   "source": [
    "C_start_time = time.time()\n",
    "clf3 = LinearSVC(C=1)\n",
    "C1=scaled_cov_train\n",
    "C2=scaled_cov_test\n",
    "clf3.fit(C1,Z)\n",
    "C_end_time = time.time() - C_start_time"
   ]
  },
  {
   "cell_type": "code",
   "execution_count": 26,
   "metadata": {},
   "outputs": [
    {
     "name": "stdout",
     "output_type": "stream",
     "text": [
      "2.0 minutes 7.0 seconds\n"
     ]
    }
   ],
   "source": [
    "print(np.round(C_end_time/60), 'minutes', np.round(C_end_time % 60), 'seconds')"
   ]
  },
  {
   "cell_type": "code",
   "execution_count": 32,
   "metadata": {},
   "outputs": [
    {
     "name": "stdout",
     "output_type": "stream",
     "text": [
      "Model Precision: 38.62%\n",
      "Model Recall: 13.08%\n",
      "Model F-score: 8.76%\n",
      "Training Accuracy: 30.24%\n",
      "Model Accuracy: 22.29%\n",
      "******************** Classification Report ********************\n",
      "             precision    recall  f1-score   support\n",
      "\n",
      "          1       0.21      0.96      0.35      5099\n",
      "          2       0.53      0.10      0.16      4149\n",
      "          3       0.39      0.01      0.02      2882\n",
      "          4       0.28      0.02      0.04      2523\n",
      "          5       0.50      0.00      0.01      2384\n",
      "          6       0.37      0.03      0.06      1977\n",
      "          7       0.21      0.16      0.18      2019\n",
      "          8       0.54      0.00      0.01      1660\n",
      "          9       0.30      0.02      0.03      1595\n",
      "         10       0.53      0.01      0.02      1744\n",
      "\n",
      "avg / total       0.37      0.22      0.12     26032\n",
      "\n"
     ]
    }
   ],
   "source": [
    "C_results = clf3.predict(C2[:partition_test])\n",
    "C_report = skm.classification_report(test_label[:partition_test], C_results)\n",
    "print( \"Model Precision: {}%\".format(round((skm.precision_score(test_label, C_results, average=\"macro\")*100), 2)) )\n",
    "print( \"Model Recall: {}%\".format(round((skm.recall_score(test_label, C_results, average = \"macro\")*100), 2)) )\n",
    "print( \"Model F-score: {}%\".format(round((skm.f1_score(test_label, C_results, average = \"macro\")*100), 2)) )\n",
    "print( \"Training Accuracy: {}%\".format(np.round(clf3.score(C1[:partition_test],Z[:partition_test])*100, 2)))\n",
    "print( \"Model Accuracy: {}%\".format(np.round(clf3.score(C2[:partition_test],test_label[:partition_test])*100, 2)))\n",
    "print( \"******************** Classification Report ********************\" )\n",
    "print(C_report)"
   ]
  },
  {
   "cell_type": "code",
   "execution_count": 28,
   "metadata": {},
   "outputs": [
    {
     "data": {
      "text/plain": [
       "array([[4876,   55,    6,   20,    1,   15,  119,    1,    6,    0],\n",
       "       [3475,  400,    7,   14,    2,   13,  234,    0,    2,    2],\n",
       "       [2532,   98,   33,   15,    2,    4,  183,    2,   12,    1],\n",
       "       [2372,   22,    1,   57,    0,   12,   53,    0,    6,    0],\n",
       "       [2183,   26,   10,   12,    9,   16,  123,    1,    3,    1],\n",
       "       [1711,   16,    8,   36,    2,   61,  132,    1,    7,    3],\n",
       "       [1655,   39,    2,    3,    0,    6,  313,    0,    1,    0],\n",
       "       [1468,   41,   12,   15,    2,   22,   82,    7,    8,    3],\n",
       "       [1459,   20,    2,    0,    0,    6,   73,    1,   28,    6],\n",
       "       [1435,   33,    4,   32,    0,    8,  194,    0,   20,   18]],\n",
       "      dtype=int64)"
      ]
     },
     "execution_count": 28,
     "metadata": {},
     "output_type": "execute_result"
    }
   ],
   "source": [
    "confusion_matrix(test_label[:partition_test], C_results)"
   ]
  },
  {
   "cell_type": "code",
   "execution_count": null,
   "metadata": {},
   "outputs": [],
   "source": []
  }
 ],
 "metadata": {
  "kernelspec": {
   "display_name": "Python 3",
   "language": "python",
   "name": "python3"
  },
  "language_info": {
   "codemirror_mode": {
    "name": "ipython",
    "version": 3
   },
   "file_extension": ".py",
   "mimetype": "text/x-python",
   "name": "python",
   "nbconvert_exporter": "python",
   "pygments_lexer": "ipython3",
   "version": "3.6.5"
  }
 },
 "nbformat": 4,
 "nbformat_minor": 2
}
